{
 "cells": [
  {
   "cell_type": "markdown",
   "metadata": {
    "id": "L_cQX8dWu4Dv"
   },
   "source": [
    "# Detecção de rostos\n",
    "\n",
    "### Este notebook demonstra como realizar a detecção em tempo real de rostos utilizando a biblioteca MediaPipe integrada ao OpenCV. \n",
    "### A aplicação captura vídeo da webcam, identifica as faces presentes no quadro e destaca-as. Ideal para estudos e prototipagem rápida em visão computacional e processamento de imagens.\n",
    "### Permite realizar diversas atividades, tal como o RIA."
   ]
  },
  {
   "cell_type": "code",
   "execution_count": null,
   "metadata": {
    "tags": []
   },
   "outputs": [],
   "source": [
    "import cv2\n",
    "import mediapipe as mp\n",
    "\n",
    "# Inicializa os módulos de detecção de rosto e desenho\n",
    "mp_face_detection = mp.solutions.face_detection\n",
    "mp_drawing = mp.solutions.drawing_utils\n",
    "\n",
    "# Inicia captura de vídeo da webcam\n",
    "cap = cv2.VideoCapture(0)\n",
    "\n",
    "# Cria o objeto de detecção com confiança mínima de 80%\n",
    "with mp_face_detection.FaceDetection(\n",
    "    min_detection_confidence=0.80) as face_detection:\n",
    "  while cap.isOpened():\n",
    "    success, image = cap.read()\n",
    "    if not success:\n",
    "      continue\n",
    "\n",
    "    # Prepara imagem para MediaPipe: espelha e converte BGR -> RGB\n",
    "    image = cv2.cvtColor(cv2.flip(image, 1), cv2.COLOR_BGR2RGB)\n",
    "\n",
    "    # Otimiza para processamento\n",
    "    image.flags.writeable = False\n",
    "    results = face_detection.process(image)\n",
    "    image.flags.writeable = True\n",
    "    \n",
    "    # Volta para BGR para exibir no OpenCV\n",
    "    image = cv2.cvtColor(image, cv2.COLOR_RGB2BGR)\n",
    "\n",
    "    # Se rostos forem detectados\n",
    "    if results.detections:\n",
    "      if len(results.detections) > 5:\n",
    "          # Se mais de 5 rostos, destaca com cor vermelha forte\n",
    "          for detection in results.detections:\n",
    "              mp_drawing.draw_detection(image, detection,\n",
    "               bbox_drawing_spec=mp_drawing.DrawingSpec(color=(0, 0, 255), thickness=7))\n",
    "      else:\n",
    "          # Caso contrário, usa o estilo padrão\n",
    "          for detection in results.detections:\n",
    "              mp_drawing.draw_detection(image, detection)\n",
    "    \n",
    "    cv2.imshow('MediaPipe Face Detection', image)\n",
    "    \n",
    "    # Sai se a tecla 'q' for pressionada\n",
    "    if cv2.waitKey(1) & 0xFF == ord('q'):\n",
    "      break\n",
    "    \n",
    "# Libera recursos\n",
    "cap.release()\n",
    "cv2.destroyAllWindows()\n",
    "cv2.waitKey(1)"
   ]
  }
 ],
 "metadata": {
  "accelerator": "GPU",
  "colab": {
   "gpuType": "T4",
   "provenance": []
  },
  "gpuClass": "standard",
  "kernelspec": {
   "display_name": "Python 3 (ipykernel)",
   "language": "python",
   "name": "python3"
  },
  "language_info": {
   "codemirror_mode": {
    "name": "ipython",
    "version": 3
   },
   "file_extension": ".py",
   "mimetype": "text/x-python",
   "name": "python",
   "nbconvert_exporter": "python",
   "pygments_lexer": "ipython3",
   "version": "3.11.13"
  }
 },
 "nbformat": 4,
 "nbformat_minor": 4
}
